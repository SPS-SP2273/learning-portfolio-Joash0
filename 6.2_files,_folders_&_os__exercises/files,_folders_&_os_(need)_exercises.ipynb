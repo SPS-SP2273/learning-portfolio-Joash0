{
 "cells": [
  {
   "attachments": {},
   "cell_type": "markdown",
   "id": "123456",
   "metadata": {},
   "source": [
    "<div style=\"text-align:left;font-size:2em\"><span style=\"font-weight:bolder;font-size:1.25em\">SP2273 | Learning Portfolio</span><br><br><span style=\"font-weight:bold;color:darkred\">Files, Folders & OS (Need) Exercises</span></div>"
   ]
  },
  {
   "cell_type": "markdown",
   "id": "03b85a10",
   "metadata": {},
   "source": [
    "#### Exercise 1 (Tidying a collaboration)"
   ]
  },
  {
   "cell_type": "markdown",
   "id": "4bfe3523",
   "metadata": {},
   "source": [
    "#### Task 1"
   ]
  },
  {
   "cell_type": "code",
   "execution_count": 2,
   "id": "5416cbfd",
   "metadata": {},
   "outputs": [
    {
     "name": "stdout",
     "output_type": "stream",
     "text": [
      "10-08_singapore.txt\n"
     ]
    }
   ],
   "source": [
    "months = {\n",
    "'jan': '01', 'feb': '02', 'mar': '03',\n",
    "'apr': '04', 'may': '05', 'jun': '06',\n",
    "'jul': '07', 'aug': '08', 'sep': '09',\n",
    "'oct': '10', 'nov': '11', 'dec': '12'\n",
    "}\n",
    "\n",
    "filename = \"oct-08_singapore.txt\"\n",
    "\n",
    "month_day, city = filename.split(\"_\")   \n",
    "month, day = month_day.split(\"-\")       \n",
    "month_num = months[month]\n",
    "new_filename = f\"{month_num}-{day}_{city}\"\n",
    "\n",
    "print(new_filename) "
   ]
  },
  {
   "cell_type": "markdown",
   "id": "a512aff7",
   "metadata": {},
   "source": [
    "#### Task 2"
   ]
  },
  {
   "cell_type": "code",
   "execution_count": 7,
   "id": "70219ea3",
   "metadata": {},
   "outputs": [
    {
     "name": "stdout",
     "output_type": "stream",
     "text": [
      "10-08_singapore.txt\n"
     ]
    }
   ],
   "source": [
    "months = {\n",
    "'jan': '01', 'feb': '02', 'mar': '03',\n",
    "'apr': '04', 'may': '05', 'jun': '06',\n",
    "'jul': '07', 'aug': '08', 'sep': '09',\n",
    "'oct': '10', 'nov': '11', 'dec': '12'\n",
    "}\n",
    "\n",
    "old_file_name = \"oct-08_singapore.txt\"\n",
    "\n",
    "def rename_my_file(old_file_name):\n",
    "    month_day, city = old_file_name.split(\"_\")   \n",
    "    month, day = month_day.split(\"-\")       \n",
    "    month_num = months[month]\n",
    "    return f\"{month_num}-{day}_{city}\"\n",
    "\n",
    "print(rename_my_file(old_file_name))"
   ]
  },
  {
   "cell_type": "markdown",
   "id": "e21685a1",
   "metadata": {},
   "source": [
    "#### Task 3"
   ]
  },
  {
   "cell_type": "code",
   "execution_count": 12,
   "id": "3f1233bb",
   "metadata": {},
   "outputs": [
    {
     "name": "stdout",
     "output_type": "stream",
     "text": [
      "oct-08_singapore.txt---->10-08_singapore.txt\n",
      "jul-10_cairo.txt---->07-10_cairo.txt\n",
      "may-15_dhaka.txt---->05-15_dhaka.txt\n",
      "may-13_cairo.txt---->05-13_cairo.txt\n",
      "oct-21_cairo.txt---->10-21_cairo.txt\n",
      "jan-10_singapore.txt---->01-10_singapore.txt\n",
      "jun-20_tokyo.txt---->06-20_tokyo.txt\n",
      "aug-06_jakarta.txt---->08-06_jakarta.txt\n",
      "dec-21_karachi.txt---->12-21_karachi.txt\n",
      "jan-01_tokyo.txt---->01-01_tokyo.txt\n"
     ]
    }
   ],
   "source": [
    "file_list = ['oct-08_singapore.txt', 'jul-10_cairo.txt', 'may-15_dhaka.txt',\n",
    " 'may-13_cairo.txt', 'oct-21_cairo.txt', 'jan-10_singapore.txt',\n",
    " 'jun-20_tokyo.txt', 'aug-06_jakarta.txt', 'dec-21_karachi.txt',\n",
    " 'jan-01_tokyo.txt']\n",
    "\n",
    "months = {\n",
    "'jan': '01', 'feb': '02', 'mar': '03',\n",
    "'apr': '04', 'may': '05', 'jun': '06',\n",
    "'jul': '07', 'aug': '08', 'sep': '09',\n",
    "'oct': '10', 'nov': '11', 'dec': '12'\n",
    "}\n",
    "\n",
    "for i in range (10):\n",
    "    old_file_name = file_list[i] \n",
    "    def rename_my_file(old_file_name):\n",
    "        month_day, city = old_file_name.split(\"_\")   \n",
    "        month, day = month_day.split(\"-\")       \n",
    "        month_num = months[month]\n",
    "        return f\"{month_num}-{day}_{city}\"\n",
    "    new_file_name = rename_my_file(old_file_name)\n",
    "    print(f'{old_file_name}---->{new_file_name}')\n",
    "\n"
   ]
  },
  {
   "cell_type": "markdown",
   "id": "eab6c609",
   "metadata": {},
   "source": [
    "#### Task 4"
   ]
  },
  {
   "cell_type": "code",
   "execution_count": null,
   "id": "9c2ed3e7",
   "metadata": {},
   "outputs": [],
   "source": [
    "import os\n",
    "import glob\n",
    "import shutil\n",
    "import zipfile\n",
    "# use another site to unzip and paste the file here\n",
    "zip_path = \"os-collaboration-exercise-data.zip\"\n",
    "\n",
    "extract_path = \"extracted_files\"\n",
    "\n",
    "os.makedirs(extract_path, exist_ok=True)\n",
    "\n",
    "\n",
    "with zipfile.ZipFile(zip_path, \"r\") as zip_ref:\n",
    "    zip_ref.extractall(extract_path)\n",
    "\n",
    "txt_files = glob.glob(os.path.join(extract_path, \"*.txt\"))\n",
    "print(txt_files[:])\n"
   ]
  },
  {
   "cell_type": "code",
   "execution_count": null,
   "id": "f071529d",
   "metadata": {},
   "outputs": [],
   "source": []
  }
 ],
 "metadata": {
  "kernelspec": {
   "display_name": "base",
   "language": "python",
   "name": "python3"
  },
  "language_info": {
   "codemirror_mode": {
    "name": "ipython",
    "version": 3
   },
   "file_extension": ".py",
   "mimetype": "text/x-python",
   "name": "python",
   "nbconvert_exporter": "python",
   "pygments_lexer": "ipython3",
   "version": "3.13.5"
  },
  "toc": {
   "base_numbering": 1,
   "nav_menu": {},
   "number_sections": true,
   "sideBar": true,
   "skip_h1_title": false,
   "title_cell": "Table of Contents",
   "title_sidebar": "Contents",
   "toc_cell": false,
   "toc_position": {},
   "toc_section_display": true,
   "toc_window_display": false
  }
 },
 "nbformat": 4,
 "nbformat_minor": 5
}
