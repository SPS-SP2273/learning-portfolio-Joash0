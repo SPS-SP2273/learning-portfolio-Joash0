{
 "cells": [
  {
   "attachments": {},
   "cell_type": "markdown",
   "id": "123456",
   "metadata": {},
   "source": [
    "<div style=\"text-align:left;font-size:2em\"><span style=\"font-weight:bolder;font-size:1.25em\">SP2273 | Learning Portfolio</span><br><br><span style=\"font-weight:bold;color:darkred\">Storing Data (Need) Exercises</span></div>"
   ]
  },
  {
   "cell_type": "markdown",
   "id": "51a56584",
   "metadata": {},
   "source": [
    "#### Exercise 1 (Total Recall)"
   ]
  },
  {
   "cell_type": "markdown",
   "id": "5238be94",
   "metadata": {},
   "source": [
    "1. Two similarities between lists and arrays\n",
    "- *Both stores an ordered collection of items*\n",
    "- Both allows us to retrieve data using their index\n",
    "2. Two difference between lists and arrays\n",
    "- Inserting mathematical operations like +5 and *2 next to the list would add items to the lists to make the list grow while performing it to an array would mathematically modify each element.\n",
    "e.g. \n",
    "list = [1, 2, 3, 4, 5]\n",
    "array = np.array(list)\n",
    "list + [5] would cause new list to be [1, 2, 3, 4, 5, 5]\n",
    "array + 5 would cause new list to be [6, 7, 8, 9, 10]\n",
    "- *Lists allow for more data types like int(), float(), str() while arrays only allow for one data type*\n",
    "3. What is a dictionary?\n",
    "- It is a method to store data and retrieve a value associated with a key, which are separated by a colon."
   ]
  },
  {
   "cell_type": "markdown",
   "id": "a615b1e1",
   "metadata": {},
   "source": [
    "#### Exercise 2 (Indexing)"
   ]
  },
  {
   "cell_type": "code",
   "execution_count": 23,
   "id": "ca7aa06d",
   "metadata": {},
   "outputs": [
    {
     "data": {
      "text/plain": [
       "['a1', 'c3', 'e5', 'g7', 'i9']"
      ]
     },
     "execution_count": 23,
     "metadata": {},
     "output_type": "execute_result"
    }
   ],
   "source": [
    "py_list = [\"a1\", \"b2\", \"c3\", \"d4\", \"e5\", \"f6\", \"g7\", \"h8\", \"i9\", \"j10\"]\n",
    "\n",
    "py_list[0:10:2]  #10 is included to account for \"j10\" in the  list"
   ]
  },
  {
   "cell_type": "markdown",
   "id": "cc31410f",
   "metadata": {},
   "source": [
    "#### Exercise 3 (Index again)"
   ]
  },
  {
   "cell_type": "code",
   "execution_count": 24,
   "id": "46570d10",
   "metadata": {},
   "outputs": [
    {
     "data": {
      "text/plain": [
       "'Boron'"
      ]
     },
     "execution_count": 24,
     "metadata": {},
     "output_type": "execute_result"
    }
   ],
   "source": [
    "elements = ['Hydrogen',\n",
    "            'Helium', 'Lithium',\n",
    "            'Beryllium', 'Boron', 'Carbon',\n",
    "            'Nitrogen', 'Oxygen',\n",
    "            'Fluorine',\n",
    "            'Neon']\n",
    "\n",
    "elements[4] #index 4 is the fifth object in the list"
   ]
  },
  {
   "cell_type": "code",
   "execution_count": 25,
   "id": "6e153952",
   "metadata": {},
   "outputs": [
    {
     "data": {
      "text/plain": [
       "'Boron'"
      ]
     },
     "execution_count": 25,
     "metadata": {},
     "output_type": "execute_result"
    }
   ],
   "source": [
    "elements[-6]#index -6 is six object reversed from index 0"
   ]
  },
  {
   "cell_type": "markdown",
   "id": "221ad4b3",
   "metadata": {},
   "source": [
    "#### Exercise 4 (How many ones)"
   ]
  },
  {
   "cell_type": "code",
   "execution_count": 26,
   "id": "96288d24",
   "metadata": {},
   "outputs": [
    {
     "data": {
      "text/plain": [
       "np.int64(9)"
      ]
     },
     "execution_count": 26,
     "metadata": {},
     "output_type": "execute_result"
    }
   ],
   "source": [
    "import numpy as np\n",
    "\n",
    "numbers=[45, 60, 1, 30, 96, 1, 96, 57, 16, 1,\n",
    "        99, 62, 86, 43, 42, 60, 59, 1, 1, 35,\n",
    "        83, 47, 34, 28, 68, 23, 22, 92, 1, 79,\n",
    "        1, 29, 94, 72, 46, 47, 1, 74, 32, 20,\n",
    "        8, 37, 35, 1, 89, 29, 86, 19, 43, 61]\n",
    "\n",
    "numbers_np_array = np.array(numbers)\n",
    "mask = numbers_np_array == 1\n",
    "mask.sum()\n",
    "\n",
    "\n",
    "\n"
   ]
  },
  {
   "cell_type": "markdown",
   "id": "f1d5809a",
   "metadata": {},
   "source": [
    "#### Exercise 5 (A Matter of Statistics)"
   ]
  },
  {
   "cell_type": "code",
   "execution_count": 27,
   "id": "d260562d",
   "metadata": {},
   "outputs": [
    {
     "data": {
      "text/plain": [
       "np.float64(38.5)"
      ]
     },
     "execution_count": 27,
     "metadata": {},
     "output_type": "execute_result"
    }
   ],
   "source": [
    "import numpy as np\n",
    "\n",
    "x_1 = [1, 4, 9, 16, 25, 36, 49, 64, 81, 100]\n",
    "x_2 = [1, 8, 27, 64, 125, 216, 343, 512, 729, 1000]\n",
    "\n",
    "x_1_array = np.array(x_1)\n",
    "x_2_array = np.array(x_2)\n",
    "x_1_array.mean()\n",
    "\n",
    "\n"
   ]
  },
  {
   "cell_type": "code",
   "execution_count": 28,
   "id": "1f79e8a1",
   "metadata": {},
   "outputs": [
    {
     "data": {
      "text/plain": [
       "np.float64(302.5)"
      ]
     },
     "execution_count": 28,
     "metadata": {},
     "output_type": "execute_result"
    }
   ],
   "source": [
    "x_2_array.mean()"
   ]
  },
  {
   "cell_type": "code",
   "execution_count": 29,
   "id": "fb192e8f",
   "metadata": {},
   "outputs": [
    {
     "data": {
      "text/plain": [
       "np.float64(32.41990129534635)"
      ]
     },
     "execution_count": 29,
     "metadata": {},
     "output_type": "execute_result"
    }
   ],
   "source": [
    "x_1_array.std()"
   ]
  },
  {
   "cell_type": "code",
   "execution_count": 30,
   "id": "a7c1183b",
   "metadata": {},
   "outputs": [
    {
     "data": {
      "text/plain": [
       "np.float64(326.0893282522444)"
      ]
     },
     "execution_count": 30,
     "metadata": {},
     "output_type": "execute_result"
    }
   ],
   "source": [
    "x_2_array.std()"
   ]
  },
  {
   "cell_type": "code",
   "execution_count": null,
   "id": "cdd9d5bb",
   "metadata": {},
   "outputs": [
    {
     "name": "stdout",
     "output_type": "stream",
     "text": [
      "r= 0.9871796626270701\n",
      "[[1.         0.98717966]\n",
      " [0.98717966 1.        ]]\n"
     ]
    }
   ],
   "source": [
    "r = ((x_1_array-x_1_array.mean())*(x_2_array-x_2_array.mean())).sum()/np.sqrt(((x_1_array-x_1_array.mean())**2).sum()*((x_2_array-x_2_array.mean())**2).sum())\n",
    "\n",
    "print(\"r=\", r)\n",
    "\n",
    "print(np.corrcoef(x_1_array, x_2_array))\n",
    "\n",
    "# Both have the same value for the first 8 significant figure\n",
    "# Manually calculated r reported the value up to 16 significant figures \n",
    "# while np.corrcoef() reports up to 8 significant figures"
   ]
  }
 ],
 "metadata": {
  "kernelspec": {
   "display_name": "base",
   "language": "python",
   "name": "python3"
  },
  "language_info": {
   "codemirror_mode": {
    "name": "ipython",
    "version": 3
   },
   "file_extension": ".py",
   "mimetype": "text/x-python",
   "name": "python",
   "nbconvert_exporter": "python",
   "pygments_lexer": "ipython3",
   "version": "3.13.5"
  },
  "toc": {
   "base_numbering": 1,
   "nav_menu": {},
   "number_sections": true,
   "sideBar": true,
   "skip_h1_title": false,
   "title_cell": "Table of Contents",
   "title_sidebar": "Contents",
   "toc_cell": false,
   "toc_position": {},
   "toc_section_display": true,
   "toc_window_display": false
  }
 },
 "nbformat": 4,
 "nbformat_minor": 5
}
