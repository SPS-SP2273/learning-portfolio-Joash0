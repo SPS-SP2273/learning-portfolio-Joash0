{
 "cells": [
  {
   "attachments": {},
   "cell_type": "markdown",
   "id": "123456",
   "metadata": {},
   "source": [
    "<div style=\"text-align:left;font-size:2em\"><span style=\"font-weight:bolder;font-size:1.25em\">SP2273 | Learning Portfolio</span><br><br><span style=\"font-weight:bold;color:darkred\">Storing Data (Good) Exercises</span></div>"
   ]
  },
  {
   "cell_type": "markdown",
   "id": "33c11b31",
   "metadata": {},
   "source": [
    "#### Exercise 1 (Total recall)"
   ]
  },
  {
   "cell_type": "markdown",
   "id": "4e4817df",
   "metadata": {},
   "source": [
    "| **Term** | **Brief description** |\n",
    "|:--- | :--- |\n",
    "|Subsetting | Choosing data in a list or array. |\n",
    "|Indexing | Choosing one data from a list or array. |\n",
    "|Slicing | Choosing a range of data from a list or array. |\n",
    "|Masking | Hides the False answers and show the True answers from an array after setting a condition. |\n"
   ]
  },
  {
   "cell_type": "markdown",
   "id": "d9e1badf",
   "metadata": {},
   "source": [
    "#### Exercise 2 (Show me the 'odd' letters)"
   ]
  },
  {
   "cell_type": "code",
   "execution_count": 47,
   "id": "19e92c8a",
   "metadata": {},
   "outputs": [
    {
     "data": {
      "text/plain": [
       "array(['A', 'C', 'E', 'G', 'I'], dtype='<U21')"
      ]
     },
     "execution_count": 47,
     "metadata": {},
     "output_type": "execute_result"
    }
   ],
   "source": [
    "import numpy as np\n",
    "\n",
    "np_array_2d = np.array([[1, \"A\"], [3, \"C\"], [2, \"B\"], [4, \"D\"],\n",
    "                        [5, \"E\"], [7, \"G\"], [6, \"F\"], [8, \"H\"],\n",
    "                        [10, \"J\"], [9, \"I\"]])\n",
    "np_array_1d = np_array_2d[:, 0]\n",
    "x = np_array_1d.astype(int)\n",
    "np_array_2d[x%2==1, 1]\n"
   ]
  },
  {
   "cell_type": "markdown",
   "id": "76aa3446",
   "metadata": {},
   "source": [
    "#### Exercise 3"
   ]
  },
  {
   "cell_type": "code",
   "execution_count": 75,
   "id": "dbf02ccc",
   "metadata": {},
   "outputs": [
    {
     "data": {
      "text/plain": [
       "array([[ 1,  0,  1, -1, -1],\n",
       "       [ 1, -1,  1, -1, -1],\n",
       "       [ 1, -1, -1,  1, -1],\n",
       "       [-1,  1,  1, -1, -1],\n",
       "       [ 1, -1,  1, -1,  1]])"
      ]
     },
     "execution_count": 75,
     "metadata": {},
     "output_type": "execute_result"
    }
   ],
   "source": [
    "import numpy as np\n",
    "\n",
    "py_list = [[66, 50, 57, -1, -1],\n",
    "            [92, -1, 88, -1, -1],\n",
    "             [75, -1, -1, 76, -1],\n",
    "             [-1, 51, 87, -1, -1],\n",
    "             [71, -1, 67, -1, 69]]\n",
    "np_array = np.array(py_list)\n",
    "my_mask_1 = np_array > 50\n",
    "my_mask_2 = np_array < 50\n",
    "my_mask_3 = np_array == 50\n",
    "\n",
    "np_array[my_mask_1] = 1 #everything greater than 50 becomes 1\n",
    "np_array[my_mask_2] = -1 #everything lower than 50 becomes -1\n",
    "np_array[my_mask_3] = 0 #everything equal to 50 becomes 0\n",
    "np_array\n"
   ]
  }
 ],
 "metadata": {
  "kernelspec": {
   "display_name": "base",
   "language": "python",
   "name": "python3"
  },
  "language_info": {
   "codemirror_mode": {
    "name": "ipython",
    "version": 3
   },
   "file_extension": ".py",
   "mimetype": "text/x-python",
   "name": "python",
   "nbconvert_exporter": "python",
   "pygments_lexer": "ipython3",
   "version": "3.13.5"
  },
  "toc": {
   "base_numbering": 1,
   "nav_menu": {},
   "number_sections": true,
   "sideBar": true,
   "skip_h1_title": false,
   "title_cell": "Table of Contents",
   "title_sidebar": "Contents",
   "toc_cell": false,
   "toc_position": {},
   "toc_section_display": true,
   "toc_window_display": false
  }
 },
 "nbformat": 4,
 "nbformat_minor": 5
}
