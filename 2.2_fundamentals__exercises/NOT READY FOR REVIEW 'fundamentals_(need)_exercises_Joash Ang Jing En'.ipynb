{
 "cells": [
  {
   "attachments": {},
   "cell_type": "markdown",
   "id": "123456",
   "metadata": {},
   "source": [
    "<div style=\"text-align:left;font-size:2em\"><span style=\"font-weight:bolder;font-size:1.25em\">SP2273 | Learning Portfolio</span><br><br><span style=\"font-weight:bold;color:darkred\">Fundamentals (Need) Exercises</span></div>"
   ]
  },
  {
   "cell_type": "markdown",
   "id": "a62fb2de",
   "metadata": {},
   "source": [
    "### Exercise 1 (Total Recall?)"
   ]
  },
  {
   "cell_type": "markdown",
   "id": "b4f21062",
   "metadata": {},
   "source": [
    "List of basic Python features:\n",
    "1. Functions are a reusable and definable line of code that works like a machine to give an output given it receives an input, which may or may not accept arguments.\n",
    "1. Giving a new definition to in-built Python functions causes their original functions to fail and thus, the system has to restart to restore those functions.\n",
    "1. Python is case-sensitive.\n",
    "1. The dot operator is used to access functions or values like sqrt or split that belong to an object or package.\n",
    "1. Comments are annotations made to explain lines of code without affecting how the lines of code are run.\n",
    "1. Packages such as math and numpy allows us to access advanced mathematical operations like sqrt()\n",
    "1. Creating conditions using if, elif and else statements, and the use of mathematical operators such as \"==\", \"<\", \">\" and \"in\" to check if a certain condition is fulfilled.\n",
    "1. Difference between the use of \"=\" and \"==\". \"=\" is used to assign a value to a variable while \"==\" is to check if a certain condition is fulfilled. The output would be either True or False.\n",
    "1. To access a certain item in a list [], we can use print(list[0]) with the number inside the square brackets representing the index.\n",
    "1. To access a certain value in a dictionary {}, one can print(dictionary[\"key\"]) to obtain the \"value\" corresponding to the key.\n",
    "1. return function sends a value back to the caller of a function, which stores this value.\n",
    "1. append() allows new items to be added to a list.\n",
    "1. str() causes an information to be expressed as a line of string in word form\n",
    "1. float() causes an information to be expressed as a line of numbers, down to the precise decimal places\n",
    "1. int() causes an information to be expressed as an integer.\n",
    "1. complex() causes an information to include both real and imaginary part of the number\n",
    "1. *use of '' causes the information stored to be a line of string in English word form, while without using ' ' will make it a variable that contains information*\n",
    "1. *use of () can be used in mathematical operations or to call out certain functions in Python*\n",
    "\n"
   ]
  },
  {
   "cell_type": "markdown",
   "id": "9b429103",
   "metadata": {},
   "source": [
    "### Exercise 2 (Debug me)"
   ]
  },
  {
   "cell_type": "code",
   "execution_count": 30,
   "id": "24e4debb",
   "metadata": {},
   "outputs": [
    {
     "name": "stdout",
     "output_type": "stream",
     "text": [
      "x=3 y=4 z=5.0\n"
     ]
    }
   ],
   "source": [
    "import math\n",
    "\n",
    "x, y = 3, 4 # no need to separate x = 3 and y = 4 into separate lines\n",
    "z = math.sqrt(x**2 + y**2) # import math and let sqrt function belong to math package\n",
    "\n",
    "print(f'{x=}', f'{y=}', f'{z=}') # no unexpected indentation allowed here. Python is sensitive (print instead of Print)"
   ]
  },
  {
   "cell_type": "markdown",
   "id": "2ff68c47",
   "metadata": {},
   "source": [
    "### Exercise 3 (In your own words)"
   ]
  },
  {
   "cell_type": "markdown",
   "id": "c4a3ff71",
   "metadata": {},
   "source": [
    "| **#** | **Term** | **Description** |\n",
    "| :---: | :---     | :---:           |\n",
    "| 1 | Function     | It is a reusable block of code that works like a machine which gives an output after inserting an input into it.|\n",
    "| 2 | Argument     | It is an input that can be processed in a function to give an output.|\n",
    "| 3 | Comments    | It is an annotation made to explain any changes made to lines of code or rationale behind certain lines of code without affecting how the code runs. |\n",
    "| 4 | Indentations    | Indentations are spaces and tabs that properly organises lines of code in the correct structure to run the code correctly. |\n",
    "| 5 | Packages    | It gives Python additional abilities such as accessing and interpreting more math operations like sqrt through packages like math and numpy.|\n",
    "| 6 | .    | It assigns a certain function like sqrt that belongs to an object or package like math or numpy.|\n",
    "| 7 | :    | It signals and connects the statement before the colon to the next indented line of code to ensure the code run smoothly.|\n",
    "| 8 | []    | It stores data in a list, which allows us to access these elements or items using index. |\n",
    "| 9 | [ [],[] ]    | It is a list that stores other lists, which can store 2-dimensional or 3-dimensional data.|\n",
    "| 10 | {}   | It stores data in a dictionary, which assigns a value to a key and allows us to access these values through the keys. |"
   ]
  },
  {
   "cell_type": "markdown",
   "id": "e262f2d2",
   "metadata": {},
   "source": [
    "### Exercise 4 (More than one way to divide)"
   ]
  },
  {
   "cell_type": "code",
   "execution_count": 31,
   "id": "db1bc54e",
   "metadata": {},
   "outputs": [
    {
     "data": {
      "text/plain": [
       "2.5"
      ]
     },
     "execution_count": 31,
     "metadata": {},
     "output_type": "execute_result"
    }
   ],
   "source": [
    "5/2 # the value obtained (down to the decimal places) when dividing 5 by 2"
   ]
  },
  {
   "cell_type": "code",
   "execution_count": 32,
   "id": "72c7bfa5",
   "metadata": {},
   "outputs": [
    {
     "data": {
      "text/plain": [
       "2"
      ]
     },
     "execution_count": 32,
     "metadata": {},
     "output_type": "execute_result"
    }
   ],
   "source": [
    "5//2 # the quotient obtained when dividing 5 by 2"
   ]
  },
  {
   "cell_type": "code",
   "execution_count": 33,
   "id": "af30a89f",
   "metadata": {},
   "outputs": [
    {
     "data": {
      "text/plain": [
       "1"
      ]
     },
     "execution_count": 33,
     "metadata": {},
     "output_type": "execute_result"
    }
   ],
   "source": [
    "5%2 # The remainder obtained when dividing 5 by 2"
   ]
  }
 ],
 "metadata": {
  "kernelspec": {
   "display_name": "base",
   "language": "python",
   "name": "python3"
  },
  "language_info": {
   "codemirror_mode": {
    "name": "ipython",
    "version": 3
   },
   "file_extension": ".py",
   "mimetype": "text/x-python",
   "name": "python",
   "nbconvert_exporter": "python",
   "pygments_lexer": "ipython3",
   "version": "3.13.5"
  },
  "toc": {
   "base_numbering": 1,
   "nav_menu": {},
   "number_sections": true,
   "sideBar": true,
   "skip_h1_title": false,
   "title_cell": "Table of Contents",
   "title_sidebar": "Contents",
   "toc_cell": false,
   "toc_position": {},
   "toc_section_display": true,
   "toc_window_display": false
  }
 },
 "nbformat": 4,
 "nbformat_minor": 5
}
