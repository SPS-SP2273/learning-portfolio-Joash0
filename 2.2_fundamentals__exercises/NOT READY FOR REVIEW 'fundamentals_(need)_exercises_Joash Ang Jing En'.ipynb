{
 "cells": [
  {
   "attachments": {},
   "cell_type": "markdown",
   "id": "123456",
   "metadata": {},
   "source": [
    "<div style=\"text-align:left;font-size:2em\"><span style=\"font-weight:bolder;font-size:1.25em\">SP2273 | Learning Portfolio</span><br><br><span style=\"font-weight:bold;color:darkred\">Fundamentals (Need) Exercises</span></div>"
   ]
  },
  {
   "cell_type": "markdown",
   "id": "a62fb2de",
   "metadata": {},
   "source": [
    "### Exercise 1 (Total Recall?)"
   ]
  },
  {
   "cell_type": "code",
   "execution_count": 3,
   "id": "45f2e69a",
   "metadata": {},
   "outputs": [
    {
     "name": "stdout",
     "output_type": "stream",
     "text": [
      "Hello World!---Hahaha---Byebye\n"
     ]
    }
   ],
   "source": [
    "print('Hello World!', 'Hahaha', 'Byebye', sep='---')"
   ]
  },
  {
   "cell_type": "markdown",
   "id": "9b429103",
   "metadata": {},
   "source": [
    "### Exercise 2 (Debug me)"
   ]
  },
  {
   "cell_type": "code",
   "execution_count": null,
   "id": "24e4debb",
   "metadata": {},
   "outputs": [
    {
     "name": "stdout",
     "output_type": "stream",
     "text": [
      "3, 4, 3.7416573867739413\n"
     ]
    }
   ],
   "source": [
    "import math\n",
    "\n",
    "x = 3\n",
    "y = 4\n",
    "z = math.sqrt(x*2 + y*2) #cannot just put sqrt() only\n",
    "\n",
    "print(x, y, z, sep=', ')"
   ]
  },
  {
   "cell_type": "markdown",
   "id": "2ff68c47",
   "metadata": {},
   "source": [
    "### Exercise 3 (In your own words)"
   ]
  },
  {
   "cell_type": "markdown",
   "id": "c4a3ff71",
   "metadata": {},
   "source": []
  },
  {
   "cell_type": "markdown",
   "id": "e262f2d2",
   "metadata": {},
   "source": [
    "### Exercise 4 (More than one way to divide)"
   ]
  },
  {
   "cell_type": "code",
   "execution_count": null,
   "id": "db1bc54e",
   "metadata": {},
   "outputs": [
    {
     "data": {
      "text/plain": [
       "2.5"
      ]
     },
     "execution_count": 5,
     "metadata": {},
     "output_type": "execute_result"
    }
   ],
   "source": [
    "5/2 # the real number obtained (down to the decimal places) when dividing 5 by 2"
   ]
  },
  {
   "cell_type": "code",
   "execution_count": null,
   "id": "72c7bfa5",
   "metadata": {},
   "outputs": [
    {
     "data": {
      "text/plain": [
       "2"
      ]
     },
     "execution_count": 7,
     "metadata": {},
     "output_type": "execute_result"
    }
   ],
   "source": [
    "5//2 # the quotient obtained when dividing 5 by 2"
   ]
  },
  {
   "cell_type": "code",
   "execution_count": null,
   "id": "af30a89f",
   "metadata": {},
   "outputs": [
    {
     "data": {
      "text/plain": [
       "1"
      ]
     },
     "execution_count": 8,
     "metadata": {},
     "output_type": "execute_result"
    }
   ],
   "source": [
    "5%2 # The remainder obtained when dividing 5 by 2"
   ]
  }
 ],
 "metadata": {
  "kernelspec": {
   "display_name": "base",
   "language": "python",
   "name": "python3"
  },
  "language_info": {
   "codemirror_mode": {
    "name": "ipython",
    "version": 3
   },
   "file_extension": ".py",
   "mimetype": "text/x-python",
   "name": "python",
   "nbconvert_exporter": "python",
   "pygments_lexer": "ipython3",
   "version": "3.13.5"
  },
  "toc": {
   "base_numbering": 1,
   "nav_menu": {},
   "number_sections": true,
   "sideBar": true,
   "skip_h1_title": false,
   "title_cell": "Table of Contents",
   "title_sidebar": "Contents",
   "toc_cell": false,
   "toc_position": {},
   "toc_section_display": true,
   "toc_window_display": false
  }
 },
 "nbformat": 4,
 "nbformat_minor": 5
}
