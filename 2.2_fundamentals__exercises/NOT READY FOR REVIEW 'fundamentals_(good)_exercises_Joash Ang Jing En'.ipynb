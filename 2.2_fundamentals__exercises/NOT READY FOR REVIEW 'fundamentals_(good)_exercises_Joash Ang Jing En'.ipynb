{
 "cells": [
  {
   "attachments": {},
   "cell_type": "markdown",
   "id": "123456",
   "metadata": {},
   "source": [
    "<div style=\"text-align:left;font-size:2em\"><span style=\"font-weight:bolder;font-size:1.25em\">SP2273 | Learning Portfolio</span><br><br><span style=\"font-weight:bold;color:darkred\">Fundamentals (Good) Exercises</span></div>"
   ]
  },
  {
   "cell_type": "markdown",
   "id": "12b5a899",
   "metadata": {},
   "source": [
    "### Exercise 1 (f-strings to the rescue)"
   ]
  },
  {
   "cell_type": "markdown",
   "id": "e6cd0a65",
   "metadata": {},
   "source": [
    "#### Task 1"
   ]
  },
  {
   "cell_type": "code",
   "execution_count": 1,
   "id": "216b09ea",
   "metadata": {},
   "outputs": [
    {
     "name": "stdout",
     "output_type": "stream",
     "text": [
      "How you doin Joash!\n"
     ]
    }
   ],
   "source": [
    "name = 'Joash'\n",
    "print(f\"How you doin {name}!\")"
   ]
  },
  {
   "cell_type": "markdown",
   "id": "580cf71c",
   "metadata": {},
   "source": [
    "#### Task 2"
   ]
  },
  {
   "cell_type": "code",
   "execution_count": 5,
   "id": "e2625d51",
   "metadata": {},
   "outputs": [
    {
     "name": "stdout",
     "output_type": "stream",
     "text": [
      "My name is Joash and I am 21 years old.\n"
     ]
    }
   ],
   "source": [
    "name = 'Joash'\n",
    "age = 21\n",
    "print(f\"My name is {name} and I am {age} years old.\")"
   ]
  },
  {
   "cell_type": "markdown",
   "id": "c99f1721",
   "metadata": {},
   "source": [
    "#### Task 3"
   ]
  },
  {
   "cell_type": "code",
   "execution_count": 6,
   "id": "a73dc5ff",
   "metadata": {},
   "outputs": [
    {
     "name": "stdout",
     "output_type": "stream",
     "text": [
      "The value of pi to 2 decimal places is: 3.14\n",
      "The value of pi to 3 decimal places is: 3.142\n",
      "The value of pi to 4 decimal places is: 3.1416\n"
     ]
    }
   ],
   "source": [
    "import numpy as np\n",
    "\n",
    "print(f\"The value of pi to 2 decimal places is: {np.pi:.2f}\")\n",
    "print(f\"The value of pi to 3 decimal places is: {np.pi:.3f}\")\n",
    "print(f\"The value of pi to 4 decimal places is: {np.pi:.4f}\")"
   ]
  },
  {
   "cell_type": "markdown",
   "id": "e0585a74",
   "metadata": {},
   "source": [
    "#### Task 4"
   ]
  },
  {
   "cell_type": "code",
   "execution_count": null,
   "id": "8d81dccd",
   "metadata": {},
   "outputs": [
    {
     "name": "stdout",
     "output_type": "stream",
     "text": [
      "Apple      $ 0.99 \n",
      "Banana     $ 0.59 \n",
      "Orange     $ 1.29 \n",
      "********** $*****\n"
     ]
    }
   ],
   "source": [
    "print(f\"Apple{\"\": >6}$ 0.99 \\nBanana{\"\":>5}$ 0.59 \\nOrange{\"\":>5}$ 1.29 \\n{\"*\"*10} {\"$\"+\"*\"*5}\")"
   ]
  },
  {
   "cell_type": "markdown",
   "id": "bc4818d8",
   "metadata": {},
   "source": [
    "### Exercise 2 (What is your grade?)"
   ]
  },
  {
   "cell_type": "code",
   "execution_count": null,
   "id": "6bec729c",
   "metadata": {},
   "outputs": [],
   "source": [
    "try:\n",
    "    score = input(\"Enter the student's score:\")\n",
    "    if int(score) >=70 and int(score) <=100:\n",
    "        print(\"The student's letter grade is: A\")\n",
    "    elif int(score) >=50 and int(score) <=69:\n",
    "        print(\"The student's letter grade is: B\")\n",
    "    elif int(score) >=35 and int(score) <=49:\n",
    "        print(\"The student's letter grade is: C\")\n",
    "    elif int(score) >=0 and int(score) <=34:\n",
    "        print(\"The student's letter grade is: Fail\")\n",
    "\n",
    "except ValueError:\n",
    "    print(\"Invalid Input\")\n",
    "\n",
    "# come back here when you learn loops so that you can write grade = A instead of print\n"
   ]
  },
  {
   "cell_type": "code",
   "execution_count": null,
   "id": "aa6da25d",
   "metadata": {},
   "outputs": [],
   "source": [
    "while True:\n",
    "        try:\n",
    "            user_input = int(input(\"Enter a number: \"))\n",
    "            # Further validation if needed\n",
    "            break # Exit loop if valid\n",
    "        except ValueError:\n",
    "            print(\"Invalid input! Please enter a valid number.\")"
   ]
  },
  {
   "cell_type": "markdown",
   "id": "bb82073b",
   "metadata": {},
   "source": [
    "### Exercise 3 (Debugging Code)"
   ]
  },
  {
   "cell_type": "code",
   "execution_count": null,
   "id": "f666c9f6",
   "metadata": {},
   "outputs": [
    {
     "name": "stdout",
     "output_type": "stream",
     "text": [
      "120\n",
      "Invalid input\n"
     ]
    }
   ],
   "source": [
    "def factorial(n):\n",
    "    if n < 0:\n",
    "        return \"Invalid input\"\n",
    "    elif n == 0:\n",
    "        return 1\n",
    "    else:\n",
    "        result = 1\n",
    "        for number in range (1, n+1):\n",
    "            result *= number\n",
    "        return result\n",
    "    \n",
    "print(factorial(5))\n",
    "print(factorial(-1))"
   ]
  }
 ],
 "metadata": {
  "kernelspec": {
   "display_name": "base",
   "language": "python",
   "name": "python3"
  },
  "language_info": {
   "codemirror_mode": {
    "name": "ipython",
    "version": 3
   },
   "file_extension": ".py",
   "mimetype": "text/x-python",
   "name": "python",
   "nbconvert_exporter": "python",
   "pygments_lexer": "ipython3",
   "version": "3.13.5"
  },
  "toc": {
   "base_numbering": 1,
   "nav_menu": {},
   "number_sections": true,
   "sideBar": true,
   "skip_h1_title": false,
   "title_cell": "Table of Contents",
   "title_sidebar": "Contents",
   "toc_cell": false,
   "toc_position": {},
   "toc_section_display": true,
   "toc_window_display": false
  }
 },
 "nbformat": 4,
 "nbformat_minor": 5
}
