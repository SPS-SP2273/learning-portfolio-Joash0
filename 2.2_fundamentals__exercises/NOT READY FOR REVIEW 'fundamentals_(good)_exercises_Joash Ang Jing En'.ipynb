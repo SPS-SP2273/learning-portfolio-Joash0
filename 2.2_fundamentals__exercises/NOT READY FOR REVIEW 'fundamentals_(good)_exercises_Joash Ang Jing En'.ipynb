{
 "cells": [
  {
   "attachments": {},
   "cell_type": "markdown",
   "id": "123456",
   "metadata": {},
   "source": [
    "<div style=\"text-align:left;font-size:2em\"><span style=\"font-weight:bolder;font-size:1.25em\">SP2273 | Learning Portfolio</span><br><br><span style=\"font-weight:bold;color:darkred\">Fundamentals (Good) Exercises</span></div>"
   ]
  },
  {
   "cell_type": "markdown",
   "id": "12b5a899",
   "metadata": {},
   "source": [
    "### Exercise 1 (f-strings to the rescue)"
   ]
  },
  {
   "cell_type": "markdown",
   "id": "e6cd0a65",
   "metadata": {},
   "source": [
    "#### Task 1"
   ]
  },
  {
   "cell_type": "code",
   "execution_count": 1,
   "id": "216b09ea",
   "metadata": {},
   "outputs": [
    {
     "name": "stdout",
     "output_type": "stream",
     "text": [
      "How you doin Joash!\n"
     ]
    }
   ],
   "source": [
    "name = 'Joash'\n",
    "print(f\"How you doin {name}!\")"
   ]
  },
  {
   "cell_type": "markdown",
   "id": "580cf71c",
   "metadata": {},
   "source": [
    "#### Task 2"
   ]
  },
  {
   "cell_type": "code",
   "execution_count": 5,
   "id": "e2625d51",
   "metadata": {},
   "outputs": [
    {
     "name": "stdout",
     "output_type": "stream",
     "text": [
      "My name is Joash and I am 21 years old.\n"
     ]
    }
   ],
   "source": [
    "name = 'Joash'\n",
    "age = 21\n",
    "print(f\"My name is {name} and I am {age} years old.\")"
   ]
  },
  {
   "cell_type": "markdown",
   "id": "c99f1721",
   "metadata": {},
   "source": [
    "#### Task 3"
   ]
  },
  {
   "cell_type": "code",
   "execution_count": 6,
   "id": "a73dc5ff",
   "metadata": {},
   "outputs": [
    {
     "name": "stdout",
     "output_type": "stream",
     "text": [
      "The value of pi to 2 decimal places is: 3.14\n",
      "The value of pi to 3 decimal places is: 3.142\n",
      "The value of pi to 4 decimal places is: 3.1416\n"
     ]
    }
   ],
   "source": [
    "import numpy as np\n",
    "\n",
    "print(f\"The value of pi to 2 decimal places is: {np.pi:.2f}\")\n",
    "print(f\"The value of pi to 3 decimal places is: {np.pi:.3f}\")\n",
    "print(f\"The value of pi to 4 decimal places is: {np.pi:.4f}\")"
   ]
  },
  {
   "cell_type": "markdown",
   "id": "e0585a74",
   "metadata": {},
   "source": [
    "#### Task 4"
   ]
  },
  {
   "cell_type": "code",
   "execution_count": null,
   "id": "8d81dccd",
   "metadata": {},
   "outputs": [
    {
     "name": "stdout",
     "output_type": "stream",
     "text": [
      "Apple      $ 0.99 \n",
      "Banana     $ 0.59 \n",
      "Orange     $ 1.29 \n",
      "********** $*****\n"
     ]
    }
   ],
   "source": [
    "print(f\"Apple{\"\": >6}$ 0.99 \\nBanana{\"\":>5}$ 0.59 \\nOrange{\"\":>5}$ 1.29 \\n{\"*\"*10} {\"$\"+\"*\"*5}\")"
   ]
  },
  {
   "cell_type": "markdown",
   "id": "bc4818d8",
   "metadata": {},
   "source": [
    "### Exercise 2 (What is your grade?)"
   ]
  },
  {
   "cell_type": "code",
   "execution_count": null,
   "id": "6bec729c",
   "metadata": {},
   "outputs": [],
   "source": []
  }
 ],
 "metadata": {
  "kernelspec": {
   "display_name": "base",
   "language": "python",
   "name": "python3"
  },
  "language_info": {
   "codemirror_mode": {
    "name": "ipython",
    "version": 3
   },
   "file_extension": ".py",
   "mimetype": "text/x-python",
   "name": "python",
   "nbconvert_exporter": "python",
   "pygments_lexer": "ipython3",
   "version": "3.13.5"
  },
  "toc": {
   "base_numbering": 1,
   "nav_menu": {},
   "number_sections": true,
   "sideBar": true,
   "skip_h1_title": false,
   "title_cell": "Table of Contents",
   "title_sidebar": "Contents",
   "toc_cell": false,
   "toc_position": {},
   "toc_section_display": true,
   "toc_window_display": false
  }
 },
 "nbformat": 4,
 "nbformat_minor": 5
}
