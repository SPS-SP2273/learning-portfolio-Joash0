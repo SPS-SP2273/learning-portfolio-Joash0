{
 "cells": [
  {
   "attachments": {},
   "cell_type": "markdown",
   "id": "123456",
   "metadata": {},
   "source": [
    "<div style=\"text-align:left;font-size:2em\"><span style=\"font-weight:bolder;font-size:1.25em\">SP2273 | Learning Portfolio</span><br><br><span style=\"font-weight:bold;color:darkred\">Loops (Need)</span></div>"
   ]
  },
  {
   "attachments": {},
   "cell_type": "markdown",
   "id": "123456",
   "metadata": {},
   "source": [
    "# What to expect in this chapter"
   ]
  },
  {
   "attachments": {},
   "cell_type": "markdown",
   "id": "123456",
   "metadata": {},
   "source": [
    "# 1 The for iterator"
   ]
  },
  {
   "cell_type": "code",
   "execution_count": 8,
   "id": "83e8dd60",
   "metadata": {},
   "outputs": [
    {
     "name": "stdout",
     "output_type": "stream",
     "text": [
      "1 Joash Ang\n",
      "1 James Lim\n",
      "1 John Lee\n"
     ]
    }
   ],
   "source": [
    "real_names = ['Joash Ang', 'James Lim', 'John Lee']\n",
    "\n",
    "for name in real_names:\n",
    "    count = 0\n",
    "    count +=1\n",
    "    print(count, name)"
   ]
  },
  {
   "cell_type": "code",
   "execution_count": null,
   "id": "795d41f1",
   "metadata": {},
   "outputs": [
    {
     "name": "stdout",
     "output_type": "stream",
     "text": [
      "1 Joash Ang\n",
      "2 James Lim\n",
      "3 John Lee\n"
     ]
    }
   ],
   "source": [
    "count = 0\n",
    "for name in real_names:\n",
    "    count +=1\n",
    "    print(count, name)\n",
    "    # Placement of statement matters!"
   ]
  },
  {
   "cell_type": "code",
   "execution_count": null,
   "id": "df740c89",
   "metadata": {},
   "outputs": [
    {
     "name": "stdout",
     "output_type": "stream",
     "text": [
      "1000 Joash Ang\n",
      "1001 James Lim\n",
      "1002 John Lee\n"
     ]
    }
   ],
   "source": [
    "for count, name in enumerate(real_names, start=1000):\n",
    "    print(count, name)"
   ]
  },
  {
   "cell_type": "code",
   "execution_count": 12,
   "id": "47ec8374",
   "metadata": {},
   "outputs": [
    {
     "name": "stdout",
     "output_type": "stream",
     "text": [
      "1 Joash ANG\n",
      "2 James LIM\n",
      "3 John LEE\n"
     ]
    }
   ],
   "source": [
    "for count, name in enumerate(real_names, start=1):\n",
    "    first_name, last_name = name.split()\n",
    "    print(count, first_name, last_name.upper())"
   ]
  },
  {
   "cell_type": "code",
   "execution_count": 16,
   "id": "b7b2c1d4",
   "metadata": {},
   "outputs": [
    {
     "name": "stdout",
     "output_type": "stream",
     "text": [
      "Joash has the sir name Ang\n",
      "James has the sir name Lim\n",
      "John has the sir name Lee\n",
      "\n"
     ]
    }
   ],
   "source": [
    "all_names = \"\"\n",
    "for count, name in enumerate(real_names, start = 1):\n",
    "    first_name, last_name = name.split()\n",
    "    all_names += f'{first_name} has the sir name {last_name}\\n'\n",
    "\n",
    "print(all_names)"
   ]
  },
  {
   "cell_type": "code",
   "execution_count": null,
   "id": "7ae74b6d",
   "metadata": {},
   "outputs": [
    {
     "name": "stdout",
     "output_type": "stream",
     "text": [
      "0\n",
      "2\n",
      "4\n",
      "6\n",
      "8\n",
      "10\n",
      "12\n",
      "14\n",
      "16\n",
      "18\n",
      "20\n",
      "22\n",
      "24\n",
      "26\n"
     ]
    }
   ],
   "source": [
    "for i in range(0, 1000, 2):\n",
    "    if i > 27:\n",
    "        break\n",
    "    print(i)\n",
    "    "
   ]
  },
  {
   "cell_type": "code",
   "execution_count": null,
   "id": "230e5461",
   "metadata": {},
   "outputs": [
    {
     "name": "stdout",
     "output_type": "stream",
     "text": [
      "0\n",
      "2\n",
      "4\n",
      "6\n",
      "8\n",
      "10\n",
      "12\n",
      "14\n",
      "16\n",
      "18\n",
      "20\n",
      "22\n",
      "24\n",
      "26\n",
      "28\n"
     ]
    }
   ],
   "source": [
    "for i in range(0, 1000, 2):\n",
    "    print(i)\n",
    "    if i > 27:\n",
    "        break\n",
    "    #there's a difference in output when placement of statement differs!"
   ]
  },
  {
   "attachments": {},
   "cell_type": "markdown",
   "id": "123456",
   "metadata": {},
   "source": [
    "## 1.1 for with a list"
   ]
  },
  {
   "attachments": {},
   "cell_type": "markdown",
   "id": "123456",
   "metadata": {},
   "source": [
    "## 1.2 for with enumerate"
   ]
  },
  {
   "attachments": {},
   "cell_type": "markdown",
   "id": "123456",
   "metadata": {},
   "source": [
    "## 1.3 for with range"
   ]
  },
  {
   "attachments": {},
   "cell_type": "markdown",
   "id": "123456",
   "metadata": {},
   "source": [
    "# 2 while"
   ]
  }
 ],
 "metadata": {
  "kernelspec": {
   "display_name": "base",
   "language": "python",
   "name": "python3"
  },
  "language_info": {
   "codemirror_mode": {
    "name": "ipython",
    "version": 3
   },
   "file_extension": ".py",
   "mimetype": "text/x-python",
   "name": "python",
   "nbconvert_exporter": "python",
   "pygments_lexer": "ipython3",
   "version": "3.13.5"
  },
  "toc": {
   "base_numbering": 1,
   "nav_menu": {},
   "number_sections": true,
   "sideBar": true,
   "skip_h1_title": false,
   "title_cell": "Table of Contents",
   "title_sidebar": "Contents",
   "toc_cell": false,
   "toc_position": {},
   "toc_section_display": true,
   "toc_window_display": false
  }
 },
 "nbformat": 4,
 "nbformat_minor": 5
}
