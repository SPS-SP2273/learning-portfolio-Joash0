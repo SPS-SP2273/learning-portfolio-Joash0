{
 "cells": [
  {
   "attachments": {},
   "cell_type": "markdown",
   "id": "123456",
   "metadata": {},
   "source": [
    "<div style=\"text-align:left;font-size:2em\"><span style=\"font-weight:bolder;font-size:1.25em\">SP2273 | Learning Portfolio</span><br><br><span style=\"font-weight:bold;color:darkred\">Using Jupyter (Need), Exercises</span></div>"
   ]
  },
  {
   "attachments": {},
   "cell_type": "markdown",
   "id": "123456",
   "metadata": {},
   "source": [
    "## 1 Quadratic Equations"
   ]
  },
  {
   "attachments": {},
   "cell_type": "markdown",
   "id": "123456",
   "metadata": {},
   "source": [
    "### Introduction"
   ]
  },
  {
   "cell_type": "markdown",
   "id": "123456",
   "metadata": {},
   "source": [
    "![](https://upload.wikimedia.org/wikipedia/commons/thumb/f/f8/Polynomialdeg2.svg/300px-Polynomialdeg2.svg.png)\n",
    "\n",
    "*(Image from the [<u>Wikipedia page on Quadratic equations</u>](https://en.wikipedia.org/wiki/Quadratic_equation))*\n",
    "\n",
    "The general form of a quadratic equation is:\n",
    "$$\n",
    "ax^2+bx+c=0\n",
    "$$\n",
    "# Your code here\n"
   ]
  },
  {
   "attachments": {},
   "cell_type": "markdown",
   "id": "123456",
   "metadata": {},
   "source": [
    "### Solutions"
   ]
  },
  {
   "cell_type": "markdown",
   "id": "123456",
   "metadata": {},
   "source": [
    "\n",
    "Provided $a \\ne 0$, we can use an elementary algebraic method called [<u>completing the square</u>](https://en.wikipedia.org/wiki/Completing_the_square) to show that a quadratic equation has the following solution:\n",
    "$$\n",
    "x=\\dfrac{-b \\pm \\sqrt{b^2-4ac}}{2a}\n",
    "$$\n"
   ]
  },
  {
   "attachments": {},
   "cell_type": "markdown",
   "id": "123456",
   "metadata": {},
   "source": [
    "### Discriminant"
   ]
  },
  {
   "cell_type": "markdown",
   "id": "123456",
   "metadata": {},
   "source": [
    "\n",
    "The quantity $\\Delta=b^2-4ac$ is called the **discriminant** of the equation and decides the nature of its solutions. The table below shows the various possibilities. \n",
    "\n",
    "<style>\n",
    "table, th, td {\n",
    "    border: none !important;\n",
    "}\n",
    "</style>\n",
    "|**Discriminant**  |**Roots**|\n",
    "|:---:             |:---     |\n",
    "|$\\Delta=b^2-4ac=0$|A single solution of $-b/(2a)$|\n",
    "|$\\Delta=b^2-4ac>0$|Two distinct solutions|\n",
    "|$\\Delta=b^2-4ac<0$|No real solutions; both are complex.|\n",
    "\n",
    "\n",
    "\n",
    "\n"
   ]
  },
  {
   "cell_type": "markdown",
   "id": "1b769dd9",
   "metadata": {},
   "source": [
    "## 2 Exercise 2 (In Your Own Words)"
   ]
  },
  {
   "cell_type": "markdown",
   "id": "9c41d29f",
   "metadata": {},
   "source": [
    "1. What is a Git **repository**?\n",
    "\n",
    "Answer: It is shared digital space that organises all the files of one's personal code and other members' code.\n",
    "\n",
    "2. Git keeps track of ____ BLANK ____ in the files in our repository.\n",
    "\n",
    "Answer: changes\n",
    "\n",
    "3. What is a **commit**?\n",
    "\n",
    "Answer: It saves any edits made to a file in one's repository. One can monitor these edits by typing a comment to specify the edits made to the file.\n",
    "\n",
    "4. What is a **push**?\n",
    "\n",
    "Answer: The saved modifications made to a file is then sent to a common server where everyone can view the latest modifications made to the code.\n",
    "\n",
    "5. What is a **pull**?\n",
    "\n",
    "Answer: One can retrieve another individual's file to modify and fix their code.\n",
    "\n",
    "6. What is the difference between **Git** and **GitHub**?\n",
    "\n",
    "Answer: Git is a software that runs locally in one's individual computer, allowing the user to track changes in one's individual files and create commits using its version control system. Whereas, GitHub is a shared digital space that allows users to collaborate within the community. Users can push commits from local repository to the shared repository in Github, while enabling others to pull updates from the shared repository to local repository and resolve issues in the code.\n",
    "\n",
    "7. What is the difference between **Github** and **Github Desktop**?\n",
    "\n",
    "Answer: Github is the online website that allows users to access and collaborate on shared files within the shared repository while Github Desktop is the computer application that allows users to monitor changes locally, create commits, push commits, pull updates and sync changes with online repository."
   ]
  },
  {
   "cell_type": "markdown",
   "id": "f8e43d1b",
   "metadata": {},
   "source": [
    "## 3 Exercise 3 (A Matter of Statistics)"
   ]
  },
  {
   "cell_type": "markdown",
   "id": "31e3af3e",
   "metadata": {},
   "source": [
    "$$\n",
    "\\mu=\\dfrac{1}{n}\\sum_{i=1}^{n} x_{i}\n",
    "$$\n",
    "\n",
    "$$\n",
    "\\sigma=\\sqrt{\\dfrac{1}{n}\\sum_{i=1}^{n} (x_{i}-\\mu)^2}\n",
    "$$\n",
    "\n",
    "$$\n",
    "r=\\dfrac{\\sum_{i=1}^{n} (x_{i}-\\mu _{X})(y_{i}-\\mu _{Y})}{\\sqrt{\\sum_{i=1}^{n}(x_{i}-\\mu _{X})^2 \\sum_{i-1}^{n} (y_{i}-\\mu _{Y})^2}}\n",
    "$$"
   ]
  },
  {
   "cell_type": "markdown",
   "id": "7c8d2589",
   "metadata": {},
   "source": [
    "#### FYI"
   ]
  },
  {
   "cell_type": "markdown",
   "id": "f15d3822",
   "metadata": {},
   "source": [
    "$$\n",
    "\\sin{θ}\n",
    "$$\n",
    "\n",
    "This shows $\\sin{θ}$ as a trigonometric function.\n",
    "\n",
    "$$\n",
    "sin{θ}\n",
    "$$\n",
    "\n",
    "Whereas, this shows the algebraic letters / variables as $s$, $i$ and $n$."
   ]
  }
 ],
 "metadata": {
  "kernelspec": {
   "display_name": "base",
   "language": "python",
   "name": "python3"
  },
  "language_info": {
   "codemirror_mode": {
    "name": "ipython",
    "version": 3
   },
   "file_extension": ".py",
   "mimetype": "text/x-python",
   "name": "python",
   "nbconvert_exporter": "python",
   "pygments_lexer": "ipython3",
   "version": "3.13.5"
  },
  "toc": {
   "base_numbering": 1,
   "nav_menu": {},
   "number_sections": true,
   "sideBar": true,
   "skip_h1_title": false,
   "title_cell": "Table of Contents",
   "title_sidebar": "Contents",
   "toc_cell": false,
   "toc_position": {},
   "toc_section_display": true,
   "toc_window_display": false
  }
 },
 "nbformat": 4,
 "nbformat_minor": 5
}
