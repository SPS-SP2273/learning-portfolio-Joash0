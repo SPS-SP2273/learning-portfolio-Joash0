{
 "cells": [
  {
   "attachments": {},
   "cell_type": "markdown",
   "id": "123456",
   "metadata": {},
   "source": [
    "<div style=\"text-align:left;font-size:2em\"><span style=\"font-weight:bolder;font-size:1.25em\">SP2273 | Learning Portfolio</span><br><br><span style=\"font-weight:bold;color:darkred\">Functions (Good) Exercises</span></div>"
   ]
  },
  {
   "cell_type": "markdown",
   "id": "a04fcb98",
   "metadata": {},
   "source": [
    "#### Exercise 1 (Celsius to Fahrenheit or Kelvin)"
   ]
  },
  {
   "cell_type": "code",
   "execution_count": 2,
   "id": "552b417f",
   "metadata": {},
   "outputs": [
    {
     "name": "stdout",
     "output_type": "stream",
     "text": [
      "50.0\n"
     ]
    }
   ],
   "source": [
    "def convert_celsius(temperature_celsius, target_scale=\"Fahrenheit\"):\n",
    "    target_scale = str(input(\"Type Kelvin if you want to convert temperature to Kelvin, otherwise leave blank for Fahrenheit: \"))\n",
    "    if target_scale == \"Kelvin\":\n",
    "        if temperature_celsius+273.15>=0:\n",
    "            return temperature_celsius+273.15\n",
    "        else:\n",
    "            return \"Invalid Input\"\n",
    "    else:\n",
    "        if (temperature_celsius*(9/5)) + 32 >= -459.67:\n",
    "            return (temperature_celsius*(9/5)) + 32\n",
    "        else:\n",
    "            return \"Invalid Input\"\n",
    "try:\n",
    "    temperature_celsius = float(input(\"Type the temperature in Celsius: \"))\n",
    "    print(convert_celsius(temperature_celsius, target_scale='Fahrenheit'))\n",
    "\n",
    "except:\n",
    "    print(\"Invalid Input. Try again!\")"
   ]
  },
  {
   "cell_type": "markdown",
   "id": "e54b497f",
   "metadata": {},
   "source": [
    "#### Exercise 2 (Fahrenheit to Celsius or Kelvin)"
   ]
  },
  {
   "cell_type": "code",
   "execution_count": 4,
   "id": "0e1b4d5b",
   "metadata": {},
   "outputs": [
    {
     "name": "stdout",
     "output_type": "stream",
     "text": [
      "283.15\n"
     ]
    }
   ],
   "source": [
    "def convert_fahrenheit(temperature_fahrenheit, target_scale=\"Celsius\"):\n",
    "    epsilon = 1e-9\n",
    "    target_scale = str(input(\"Type Kelvin if you want to convert temperature to Kelvin, otherwise leave blank for Celsius: \"))\n",
    "    if target_scale == \"Kelvin\":\n",
    "        temperature_kelvin = (temperature_fahrenheit-32)*(5/9)+273.15\n",
    "        if temperature_kelvin >= -epsilon:\n",
    "            return temperature_kelvin\n",
    "        else:\n",
    "            return \"Invalid Input. Try again!\"\n",
    "    else:\n",
    "        temperature_celsius = (temperature_fahrenheit-32)*(5/9)\n",
    "        if  temperature_celsius >= -273.15-epsilon:\n",
    "            return temperature_celsius\n",
    "        else:\n",
    "            return \"Invalid Input. Try again!\"\n",
    "try:\n",
    "    temperature_fahrenheit = float(input(\"Type the temperature in Fahrenheit: \"))\n",
    "    print(convert_fahrenheit(temperature_fahrenheit, target_scale='Celsius'))\n",
    "\n",
    "except:\n",
    "    print(\"Invalid Input. Try again!\")"
   ]
  },
  {
   "cell_type": "markdown",
   "id": "ed58b696",
   "metadata": {},
   "source": [
    "#### Exercise 3 (General Temperature Conversion)"
   ]
  },
  {
   "cell_type": "code",
   "execution_count": null,
   "id": "3b786a0b",
   "metadata": {},
   "outputs": [
    {
     "name": "stdout",
     "output_type": "stream",
     "text": [
      "313.15\n"
     ]
    }
   ],
   "source": [
    "def convert_temperature(temperature, source_scale, target_scale):\n",
    "    epsilon = 1e-9\n",
    "    if source_scale == \"Fahrenheit\":\n",
    "        if target_scale == \"Kelvin\":\n",
    "            return convert_fahrenheit(temperature_fahrenheit=temperature, target_scale=\"Kelvin\")\n",
    "        else:\n",
    "            return convert_fahrenheit(temperature_fahrenheit=temperature, target_scale=\"\")\n",
    "    if source_scale == \"Celsius\":\n",
    "        if target_scale == \"Kelvin\":\n",
    "            return convert_celsius(temperature_celsius=temperature, target_scale=\"Kelvin\")\n",
    "        else:\n",
    "            return convert_celsius(temperature_celsius=temperature, target_scale=\"\")\n",
    "    if source_scale == \"Kelvin\":\n",
    "        if target_scale == \"Celsius\":\n",
    "            if temperature-273.15>=-273.15-epsilon:\n",
    "                return temperature-273.15 \n",
    "            else: \n",
    "                return \"Invalid Input\"\n",
    "        elif target_scale == \"Fahrenheit\":\n",
    "            if (temperature-273.15)*(9/5)+32>=-459.67-epsilon:\n",
    "                return (temperature-273.15)*(9/5)+32\n",
    "            else: \n",
    "                return \"Invalid Input\"     \n",
    "try:\n",
    "    temperature = float(input(\"Type the temperature: \"))\n",
    "    source_scale = str(input(\"Celsius/Fahrenheit/Kelvin Input: \"))\n",
    "    target_scale = str(input(\"Celsius/Fahrenheit/Kelvin Output: \"))\n",
    "    print(convert_temperature(temperature, source_scale, target_scale))\n",
    "\n",
    "except:\n",
    "    print(\"Invalid Input. Try again!\")\n",
    "\n",
    "# Remember to put functions outside try block so that they can be defined. \n",
    "# This ensures that if invalid input was produced in earlier functions in Exercise 1 and 2, performing a valid input for Exercise 3 would not result in \"None\""
   ]
  }
 ],
 "metadata": {
  "kernelspec": {
   "display_name": "base",
   "language": "python",
   "name": "python3"
  },
  "language_info": {
   "codemirror_mode": {
    "name": "ipython",
    "version": 3
   },
   "file_extension": ".py",
   "mimetype": "text/x-python",
   "name": "python",
   "nbconvert_exporter": "python",
   "pygments_lexer": "ipython3",
   "version": "3.13.5"
  },
  "toc": {
   "base_numbering": 1,
   "nav_menu": {},
   "number_sections": true,
   "sideBar": true,
   "skip_h1_title": false,
   "title_cell": "Table of Contents",
   "title_sidebar": "Contents",
   "toc_cell": false,
   "toc_position": {},
   "toc_section_display": true,
   "toc_window_display": false
  }
 },
 "nbformat": 4,
 "nbformat_minor": 5
}
