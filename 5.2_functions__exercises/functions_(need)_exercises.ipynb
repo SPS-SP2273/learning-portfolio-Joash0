{
 "cells": [
  {
   "attachments": {},
   "cell_type": "markdown",
   "id": "123456",
   "metadata": {},
   "source": [
    "<div style=\"text-align:left;font-size:2em\"><span style=\"font-weight:bolder;font-size:1.25em\">SP2273 | Learning Portfolio</span><br><br><span style=\"font-weight:bold;color:darkred\">Functions (Need) Exercises</span></div>"
   ]
  },
  {
   "cell_type": "markdown",
   "id": "a8ba972a",
   "metadata": {},
   "source": [
    "#### Exercise 1 (Do you know why?)"
   ]
  },
  {
   "cell_type": "code",
   "execution_count": null,
   "id": "d72f61ad",
   "metadata": {},
   "outputs": [],
   "source": [
    "def greeting(name):\n",
    "    if name == 'Batman':\n",
    "        return 'Hello Batman! So, nice to meet you!'\n",
    "    return f'Hello {name}!'"
   ]
  },
  {
   "cell_type": "markdown",
   "id": "d767ee6f",
   "metadata": {},
   "source": [
    "The return function for f'Hello{name}!' is placed on the same indentation as the if function. Therefore, if name == 'Batman', then it will send the value back to the function greeting(name). However, if the name is not 'Batman', then it proceeds to the next line on the same indentation as the if function and carries out the return function f'Hello {name}'"
   ]
  },
  {
   "cell_type": "markdown",
   "id": "b9fd96fe",
   "metadata": {},
   "source": [
    "#### Exercise 2 (Chubby or not)"
   ]
  },
  {
   "cell_type": "code",
   "execution_count": 8,
   "id": "e25d7387",
   "metadata": {},
   "outputs": [
    {
     "name": "stdout",
     "output_type": "stream",
     "text": [
      "Overweight\n"
     ]
    }
   ],
   "source": [
    "weight = input(\"Please enter your weight in kilograms: \")\n",
    "height = input(\"Please enter your height in meters: \")\n",
    "\n",
    "def calculate_bmi(weight, height):\n",
    "    BMI = weight / (height**2)\n",
    "    if BMI <18.5:\n",
    "        return \"Underweight\"\n",
    "    elif 18.5<= BMI <=24.9:\n",
    "        return \"Normal weight\"\n",
    "    elif 25 <= BMI <= 29.9:\n",
    "        return \"Overweight\"\n",
    "    elif BMI>=30:\n",
    "        return \"Obese\"\n",
    "\n",
    "print(calculate_bmi(60, 1.50))"
   ]
  },
  {
   "cell_type": "markdown",
   "id": "d6935fa2",
   "metadata": {},
   "source": [
    "#### Exercise 3 (Factorials)"
   ]
  },
  {
   "cell_type": "code",
   "execution_count": null,
   "id": "5683167a",
   "metadata": {},
   "outputs": [],
   "source": [
    "import numpy as np\n",
    "\n",
    "number = int(input(\"Please write an integer: \"))\n",
    "\n",
    "def factorial(number):\n",
    "    "
   ]
  },
  {
   "cell_type": "markdown",
   "id": "a4757867",
   "metadata": {},
   "source": []
  }
 ],
 "metadata": {
  "kernelspec": {
   "display_name": "base",
   "language": "python",
   "name": "python3"
  },
  "language_info": {
   "codemirror_mode": {
    "name": "ipython",
    "version": 3
   },
   "file_extension": ".py",
   "mimetype": "text/x-python",
   "name": "python",
   "nbconvert_exporter": "python",
   "pygments_lexer": "ipython3",
   "version": "3.13.5"
  },
  "toc": {
   "base_numbering": 1,
   "nav_menu": {},
   "number_sections": true,
   "sideBar": true,
   "skip_h1_title": false,
   "title_cell": "Table of Contents",
   "title_sidebar": "Contents",
   "toc_cell": false,
   "toc_position": {},
   "toc_section_display": true,
   "toc_window_display": false
  }
 },
 "nbformat": 4,
 "nbformat_minor": 5
}
