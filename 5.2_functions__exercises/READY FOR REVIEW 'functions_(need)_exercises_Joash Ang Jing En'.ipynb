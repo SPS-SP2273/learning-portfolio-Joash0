{
 "cells": [
  {
   "attachments": {},
   "cell_type": "markdown",
   "id": "123456",
   "metadata": {},
   "source": [
    "<div style=\"text-align:left;font-size:2em\"><span style=\"font-weight:bolder;font-size:1.25em\">SP2273 | Learning Portfolio</span><br><br><span style=\"font-weight:bold;color:darkred\">Functions (Need) Exercises</span></div>"
   ]
  },
  {
   "cell_type": "markdown",
   "id": "a8ba972a",
   "metadata": {},
   "source": [
    "#### Exercise 1 (Do you know why?)"
   ]
  },
  {
   "cell_type": "code",
   "execution_count": 4,
   "id": "d72f61ad",
   "metadata": {},
   "outputs": [
    {
     "data": {
      "text/plain": [
       "'Hello Batman! So, nice to meet you!'"
      ]
     },
     "execution_count": 4,
     "metadata": {},
     "output_type": "execute_result"
    }
   ],
   "source": [
    "name = input(\"Please enter a name: \")\n",
    "\n",
    "def greeting(name):\n",
    "    if name == 'Batman':\n",
    "        return 'Hello Batman! So, nice to meet you!'\n",
    "    return f'Hello {name}!'\n",
    "\n",
    "greeting(name)"
   ]
  },
  {
   "cell_type": "markdown",
   "id": "d767ee6f",
   "metadata": {},
   "source": [
    "The return statement for f'Hello{name}!' is placed on the same indentation as the if condition. Therefore, if the name == 'Batman' is true, then it sends 'Hello Batman! So, nice to meet you!' back to the caller of the function. However, if the name == 'Batman' is false, then it proceeds to the next line of code on the same indentation as the if condition and sends  f'Hello {name}!' back to the caller of the function. Using the return statement, only one information can be sent back to the caller of the function as the return statement stops and exits the function, which negates the need for an else statement.\n",
    "\n",
    "If I replaced the return with print functions, the code would not work equally well. If 'Batman' was typed in the input, both lines would be printed because both the first if statement is fulfilled and the line of code afterwards print(f'Hello{name}!') is fulfilled. If the name == 'Batman' is false, then it skips the first if statement and directly prints f'Hello {name}!'. For this case, the function continues to run regardless."
   ]
  },
  {
   "cell_type": "markdown",
   "id": "b9fd96fe",
   "metadata": {},
   "source": [
    "#### Exercise 2 (Chubby or not)"
   ]
  },
  {
   "cell_type": "code",
   "execution_count": 8,
   "id": "c0bf2379",
   "metadata": {},
   "outputs": [
    {
     "name": "stdout",
     "output_type": "stream",
     "text": [
      "['96.7kg']\n"
     ]
    }
   ],
   "source": [
    "weighhh=\"96.7kg\"\n",
    "print(weighhh.split('kilograms' or 'kg'))"
   ]
  },
  {
   "cell_type": "code",
   "execution_count": 12,
   "id": "e25d7387",
   "metadata": {},
   "outputs": [
    {
     "name": "stdout",
     "output_type": "stream",
     "text": [
      "Normal weight\n"
     ]
    }
   ],
   "source": [
    "try:\n",
    "    weight_units=input(\"Please enter your weight in kilograms: \")\n",
    "    height_units=input(\"Please enter your height in meters: \")\n",
    "    w = weight_units.split('kg')\n",
    "    h = height_units.split('m')\n",
    "    \n",
    "    weight = float(w[0])\n",
    "    height = float(h[0])\n",
    "\n",
    "    def calculate_bmi(weight, height):\n",
    "        if weight < 0 or height <0:\n",
    "            return \"Invalid Input\"\n",
    "        BMI = weight / (height**2)   \n",
    "        if BMI < 18.5:\n",
    "            return \"Underweight\"\n",
    "        elif 18.5<= BMI <=24.9:\n",
    "            return \"Normal weight\"\n",
    "        elif 25 <= BMI <= 29.9:\n",
    "            return \"Overweight\"\n",
    "        elif BMI>=30:\n",
    "            return \"Obese\"\n",
    "    print(calculate_bmi(weight, height)) # this must be under try block \n",
    "                                        # or else 'Underweight' would be printed below \"Invalid Input\"\n",
    "                                        # must print(calculate_bmi(weight, height)) instead of calculate_bmi(weight, height)\n",
    "\n",
    "except:  \n",
    "    print(\"Invalid Input\")"
   ]
  },
  {
   "cell_type": "markdown",
   "id": "d6935fa2",
   "metadata": {},
   "source": [
    "#### Exercise 3 (Factorials)"
   ]
  },
  {
   "cell_type": "code",
   "execution_count": null,
   "id": "5683167a",
   "metadata": {},
   "outputs": [
    {
     "name": "stdout",
     "output_type": "stream",
     "text": [
      "120\n"
     ]
    }
   ],
   "source": [
    "import numpy as np\n",
    "\n",
    "n = int(input(\"Please write an integer: \"))\n",
    "def factorial(n):\n",
    "    number = n\n",
    "    for i in range(n-1, 0, -1):\n",
    "        number = number*i # 'for' loop is carried out first 5x4, 20x3, 60x2, 120x1. then it returns new number 120 back to function.\n",
    "    if n>0:\n",
    "        return number # must be on same indentation as 'for' loops so that final number after 'for' loop is sent back to the caller of the function\n",
    "    else:\n",
    "        return \"Invalid Input\"\n",
    "\n",
    "print(factorial(n))"
   ]
  }
 ],
 "metadata": {
  "kernelspec": {
   "display_name": "base",
   "language": "python",
   "name": "python3"
  },
  "language_info": {
   "codemirror_mode": {
    "name": "ipython",
    "version": 3
   },
   "file_extension": ".py",
   "mimetype": "text/x-python",
   "name": "python",
   "nbconvert_exporter": "python",
   "pygments_lexer": "ipython3",
   "version": "3.13.5"
  },
  "toc": {
   "base_numbering": 1,
   "nav_menu": {},
   "number_sections": true,
   "sideBar": true,
   "skip_h1_title": false,
   "title_cell": "Table of Contents",
   "title_sidebar": "Contents",
   "toc_cell": false,
   "toc_position": {},
   "toc_section_display": true,
   "toc_window_display": false
  }
 },
 "nbformat": 4,
 "nbformat_minor": 5
}
