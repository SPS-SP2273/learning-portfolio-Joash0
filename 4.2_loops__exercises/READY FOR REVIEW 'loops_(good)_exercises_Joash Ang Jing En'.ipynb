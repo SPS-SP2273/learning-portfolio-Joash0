{
 "cells": [
  {
   "attachments": {},
   "cell_type": "markdown",
   "id": "123456",
   "metadata": {},
   "source": [
    "<div style=\"text-align:left;font-size:2em\"><span style=\"font-weight:bolder;font-size:1.25em\">SP2273 | Learning Portfolio</span><br><br><span style=\"font-weight:bold;color:darkred\">Loops (Good) Exercises</span></div>"
   ]
  },
  {
   "cell_type": "markdown",
   "id": "1c734022",
   "metadata": {},
   "source": [
    "#### Exercise 1 (Make me an odd list)"
   ]
  },
  {
   "cell_type": "code",
   "execution_count": 18,
   "id": "340cd4d9",
   "metadata": {},
   "outputs": [
    {
     "name": "stdout",
     "output_type": "stream",
     "text": [
      "[1, 9, 25, 49, 81]\n"
     ]
    }
   ],
   "source": [
    "squares = []\n",
    "for number in range(10):\n",
    "    if number%2==0:\n",
    "        continue\n",
    "    squares += [number**2]\n",
    "print(squares)\n",
    "\n",
    "    "
   ]
  },
  {
   "cell_type": "markdown",
   "id": "3a2d0b0c",
   "metadata": {},
   "source": [
    "#### Exercise 2 (Make me another odd list)"
   ]
  },
  {
   "cell_type": "code",
   "execution_count": 13,
   "id": "ad326ce8",
   "metadata": {},
   "outputs": [
    {
     "name": "stdout",
     "output_type": "stream",
     "text": [
      "[1, 9, 25, 49, 81]\n"
     ]
    }
   ],
   "source": [
    "print([number**2 for number in range(10) if number%2!=0])"
   ]
  },
  {
   "cell_type": "markdown",
   "id": "6d975df5",
   "metadata": {},
   "source": [
    "#### Exercise 3 (Time me!)"
   ]
  },
  {
   "cell_type": "code",
   "execution_count": null,
   "id": "ecea5584",
   "metadata": {},
   "outputs": [
    {
     "name": "stdout",
     "output_type": "stream",
     "text": [
      "886 ns ± 7.62 ns per loop (mean ± std. dev. of 7 runs, 1,000,000 loops each)\n"
     ]
    }
   ],
   "source": [
    "%%timeit\n",
    "squares = []\n",
    "for number in range(10):\n",
    "    if number%2==0:\n",
    "        continue\n",
    "    squares += [number**2]\n",
    "# 5 lines of code runs slower than one line of code"
   ]
  },
  {
   "cell_type": "code",
   "execution_count": null,
   "id": "9458b5f6",
   "metadata": {},
   "outputs": [
    {
     "name": "stdout",
     "output_type": "stream",
     "text": [
      "633 ns ± 11.1 ns per loop (mean ± std. dev. of 7 runs, 1,000,000 loops each)\n"
     ]
    }
   ],
   "source": [
    "%%timeit\n",
    "[number**2 for number in range(10) if number%2!=0]\n",
    "# one line of code runs faster than 5 lines of code"
   ]
  },
  {
   "cell_type": "markdown",
   "id": "7f96d684",
   "metadata": {},
   "source": [
    "#### Exercise 4 (A problem of decay)"
   ]
  },
  {
   "cell_type": "code",
   "execution_count": null,
   "id": "249015e5",
   "metadata": {},
   "outputs": [
    {
     "name": "stdout",
     "output_type": "stream",
     "text": [
      "The sample will take 14 years to reduce to half its original amount.\n"
     ]
    }
   ],
   "source": [
    "time = 0\n",
    "quantity = 100\n",
    "while quantity > 50:\n",
    "    quantity*=0.95\n",
    "    time += 1\n",
    "print(f'The sample will take {time} years to reduce to half its original amount.')\n"
   ]
  },
  {
   "cell_type": "markdown",
   "id": "7855418c",
   "metadata": {},
   "source": [
    "#### Exercise 5 (Changes in CO<sub>2</sub>)"
   ]
  },
  {
   "cell_type": "code",
   "execution_count": 2,
   "id": "6982ef91",
   "metadata": {},
   "outputs": [
    {
     "name": "stdout",
     "output_type": "stream",
     "text": [
      "2016 3.410000000000025\n"
     ]
    }
   ],
   "source": [
    "co2_data = [\n",
    "    (2000, 369.55), (2001, 371.14), (2002, 373.28), \n",
    "    (2003, 375.80), (2004, 377.52), (2005, 379.80), \n",
    "    (2006, 381.90), (2007, 383.79), (2008, 385.60), \n",
    "    (2009, 387.43), (2010, 389.90), (2011, 391.65), \n",
    "    (2012, 393.85), (2013, 396.52), (2014, 398.65),\n",
    "    (2015, 400.83), (2016, 404.24), (2017, 406.55), \n",
    "    (2018, 408.52), (2019, 411.44), (2020, 414.24)\n",
    "]\n",
    "for number in range (1, len(co2_data)):\n",
    "    year = co2_data[number][0]\n",
    "    CO2_level_actual = co2_data[number][1]\n",
    "    CO2_level_expected = co2_data[number-1][1]+3\n",
    "    if CO2_level_expected <= CO2_level_actual:\n",
    "        print(year, CO2_level_actual-co2_data[number-1][1])\n",
    "    "
   ]
  }
 ],
 "metadata": {
  "kernelspec": {
   "display_name": "base",
   "language": "python",
   "name": "python3"
  },
  "language_info": {
   "codemirror_mode": {
    "name": "ipython",
    "version": 3
   },
   "file_extension": ".py",
   "mimetype": "text/x-python",
   "name": "python",
   "nbconvert_exporter": "python",
   "pygments_lexer": "ipython3",
   "version": "3.13.5"
  },
  "toc": {
   "base_numbering": 1,
   "nav_menu": {},
   "number_sections": true,
   "sideBar": true,
   "skip_h1_title": false,
   "title_cell": "Table of Contents",
   "title_sidebar": "Contents",
   "toc_cell": false,
   "toc_position": {},
   "toc_section_display": true,
   "toc_window_display": false
  }
 },
 "nbformat": 4,
 "nbformat_minor": 5
}
