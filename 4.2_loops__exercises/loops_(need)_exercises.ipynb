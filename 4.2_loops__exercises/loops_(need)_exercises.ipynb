{
 "cells": [
  {
   "attachments": {},
   "cell_type": "markdown",
   "id": "123456",
   "metadata": {},
   "source": [
    "<div style=\"text-align:left;font-size:2em\"><span style=\"font-weight:bolder;font-size:1.25em\">SP2273 | Learning Portfolio</span><br><br><span style=\"font-weight:bold;color:darkred\">Loops (Need) Exercises</span></div>"
   ]
  },
  {
   "cell_type": "markdown",
   "id": "e0fd4113",
   "metadata": {},
   "source": [
    "#### Exercise 1 (Celsius to Fahrenheit)"
   ]
  },
  {
   "cell_type": "code",
   "execution_count": 2,
   "id": "13b27476",
   "metadata": {},
   "outputs": [
    {
     "name": "stdout",
     "output_type": "stream",
     "text": [
      "0 32\n",
      "5 41\n",
      "10 50\n",
      "15 59\n",
      "20 68\n",
      "25 77\n",
      "30 86\n",
      "35 95\n",
      "40 104\n",
      "45 113\n",
      "50 122\n"
     ]
    }
   ],
   "source": [
    "temperatures_celsius = [\n",
    "    0, 5, 10, 15, 20, 25,\n",
    "    30, 35, 40, 45, 50\n",
    "]\n",
    "\n",
    "for temperature in temperatures_celsius:\n",
    "    temperatures_fahrenheit = int((temperature*9/5)+32)\n",
    "    print(temperature, temperatures_fahrenheit)"
   ]
  },
  {
   "cell_type": "markdown",
   "id": "2ef50de2",
   "metadata": {},
   "source": [
    "#### Exercise 2 (Multiplication Table)"
   ]
  },
  {
   "cell_type": "code",
   "execution_count": 6,
   "id": "4a587550",
   "metadata": {},
   "outputs": [
    {
     "name": "stdout",
     "output_type": "stream",
     "text": [
      "A1\tA2\tA3\t\n",
      "\n",
      "B1\tB2\tB3\t\n",
      "\n",
      "C1\tC2\tC3\t\n",
      "\n"
     ]
    }
   ],
   "source": [
    "for letter in ['A', 'B', 'C']:\n",
    "    for number in [1, 2, 3]:\n",
    "        print(f'{letter}{number}', end='\\t') # must include 'end' as the loop will loop over again!\n",
    "    print('\\n')"
   ]
  },
  {
   "cell_type": "code",
   "execution_count": 12,
   "id": "b124b383",
   "metadata": {},
   "outputs": [
    {
     "name": "stdout",
     "output_type": "stream",
     "text": [
      "1 :\t1\t2\t3\t4\t5\t\n",
      "\n",
      "2 :\t2\t4\t6\t8\t10\t\n",
      "\n",
      "3 :\t3\t6\t9\t12\t15\t\n",
      "\n",
      "4 :\t4\t8\t12\t16\t20\t\n",
      "\n",
      "5 :\t5\t10\t15\t20\t25\t\n",
      "\n"
     ]
    }
   ],
   "source": [
    "for mult_table_of_number in range(1,6):\n",
    "    print(f'{mult_table_of_number} :', end = '\\t')\n",
    "    for number in range(1,6):\n",
    "        number*=mult_table_of_number\n",
    "        print(f'{number}', end='\\t')\n",
    "    print('\\n')"
   ]
  },
  {
   "cell_type": "markdown",
   "id": "00e4c8dd",
   "metadata": {},
   "source": [
    "#### Exercise 3"
   ]
  },
  {
   "cell_type": "code",
   "execution_count": 15,
   "id": "9da8a27d",
   "metadata": {},
   "outputs": [
    {
     "name": "stdout",
     "output_type": "stream",
     "text": [
      "Experiment 1: No. Of Heads = 7\n",
      "Experiment 2: No. Of Heads = 4\n",
      "Experiment 3: No. Of Heads = 5\n",
      "Experiment 4: No. Of Heads = 6\n",
      "Experiment 5: No. Of Heads = 4\n",
      "Experiment 6: No. Of Heads = 4\n",
      "Experiment 7: No. Of Heads = 5\n",
      "Experiment 8: No. Of Heads = 3\n",
      "Experiment 9: No. Of Heads = 6\n",
      "Experiment 10: No. Of Heads = 6\n"
     ]
    }
   ],
   "source": [
    "import numpy as np\n",
    "\n",
    "for expt_number in range(1, 11):\n",
    "    my_mask = np.random.rand(10) > 0.5\n",
    "    number_heads = len(np.random.rand(10)[my_mask])\n",
    "    print(f'Experiment {expt_number}: No. Of Heads = {number_heads}', end='\\n')"
   ]
  }
 ],
 "metadata": {
  "kernelspec": {
   "display_name": "base",
   "language": "python",
   "name": "python3"
  },
  "language_info": {
   "codemirror_mode": {
    "name": "ipython",
    "version": 3
   },
   "file_extension": ".py",
   "mimetype": "text/x-python",
   "name": "python",
   "nbconvert_exporter": "python",
   "pygments_lexer": "ipython3",
   "version": "3.13.5"
  },
  "toc": {
   "base_numbering": 1,
   "nav_menu": {},
   "number_sections": true,
   "sideBar": true,
   "skip_h1_title": false,
   "title_cell": "Table of Contents",
   "title_sidebar": "Contents",
   "toc_cell": false,
   "toc_position": {},
   "toc_section_display": true,
   "toc_window_display": false
  }
 },
 "nbformat": 4,
 "nbformat_minor": 5
}
